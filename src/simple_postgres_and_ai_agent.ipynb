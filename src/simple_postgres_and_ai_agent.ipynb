{
 "cells": [
  {
   "cell_type": "code",
   "execution_count": null,
   "metadata": {},
   "outputs": [
    {
     "name": "stdout",
     "output_type": "stream",
     "text": [
      "Created agent, ID: asst_zwzDCfEmWoIuPDP0gVHM5PAc\n"
     ]
    }
   ],
   "source": [
    "import os\n",
    "from azure.ai.projects import AIProjectClient\n",
    "from azure.identity import DefaultAzureCredential\n",
    "from azure.ai.projects.models import FunctionTool, ToolSet\n",
    "from datetime import datetime\n",
    "from legal_agent_tools import user_functions # user functions which can be found in a user_functions.py file.\n",
    "\n",
    "# Create an Azure AI Client from a connection string, copied from your Azure AI Foundry project.\n",
    "# It should be in the format \"<HostName>;<AzureSubscriptionId>;<ResourceGroup>;<HubName>\"\n",
    "# Customers need to login to Azure subscription via Azure CLI and set the environment variables\n",
    "\n",
    "project_client = AIProjectClient.from_connection_string(\n",
    "    credential=DefaultAzureCredential(),\n",
    "    conn_str=os.environ[\"PROJECT_CONNECTION_STRING\"],\n",
    ")\n",
    "\n",
    "# Initialize agent toolset with user functions\n",
    "functions = FunctionTool(user_functions)\n",
    "toolset = ToolSet()\n",
    "toolset.add(functions)\n",
    "\n",
    "agent = project_client.agents.create_agent(\n",
    "    model= os.environ[\"MODEL_DEPLOYMENT_NAME\"], \n",
    "    name=f\"legal-cases-agent-{datetime.now().strftime('%Y%m%d%H%M')}\",\n",
    "    description=\"Legal Cases Agent\", \n",
    "    instructions=f\"\"\"\n",
    "    You are a helpful legal assistant that can retrieve information about legal cases. \n",
    "    The current date is {datetime.now().strftime('%Y-%m-%d')}.\n",
    "    \"\"\", \n",
    "    toolset=toolset\n",
    ")\n",
    "print(f\"Created agent, ID: {agent.id}\")\n"
   ]
  },
  {
   "cell_type": "code",
   "execution_count": 7,
   "metadata": {},
   "outputs": [],
   "source": [
    "# Enable Azure Monitor tracing\n",
    "from azure.monitor.opentelemetry import configure_azure_monitor\n",
    "\n",
    "application_insights_connection_string = project_client.telemetry.get_connection_string()\n",
    "if not application_insights_connection_string:\n",
    "    print(\"Application Insights was not enabled for this project.\")\n",
    "    print(\"Enable it via the 'Tracing' tab in your AI Foundry project page.\")\n",
    "    exit()\n",
    "configure_azure_monitor(connection_string=application_insights_connection_string)\n",
    "\n",
    "project_client.telemetry.enable() # Enable Azure Monitor tracing"
   ]
  },
  {
   "cell_type": "code",
   "execution_count": 8,
   "metadata": {},
   "outputs": [
    {
     "name": "stdout",
     "output_type": "stream",
     "text": [
      "Created thread, ID: thread_ILOYkJ8mQj8031rJX3kgFdpy\n",
      "Created message, ID: msg_Cmyg8Care8AaqsGP6tMpNAu5\n"
     ]
    }
   ],
   "source": [
    "# Create thread for communication\n",
    "thread = project_client.agents.create_thread()\n",
    "print(f\"Created thread, ID: {thread.id}\")\n",
    "\n",
    "# Create message to thread\n",
    "message = project_client.agents.create_message(\n",
    "    thread_id=thread.id,\n",
    "    role=\"user\",\n",
    "    content=\"Water leaking into the apartment from the floor above, What are the prominent legal precedents in Washington on this problem in the last 25 years?\"\n",
    ")\n",
    "print(f\"Created message, ID: {message.id}\")\n"
   ]
  },
  {
   "cell_type": "code",
   "execution_count": 9,
   "metadata": {},
   "outputs": [
    {
     "name": "stdout",
     "output_type": "stream",
     "text": [
      "Run finished with status: RunStatus.COMPLETED\n",
      "Messages: {'object': 'list', 'data': [{'id': 'msg_bY3zlEV9WbGmAUqtJkCl0ywa', 'object': 'thread.message', 'created_at': 1741193865, 'assistant_id': 'asst_zwzDCfEmWoIuPDP0gVHM5PAc', 'thread_id': 'thread_ILOYkJ8mQj8031rJX3kgFdpy', 'run_id': 'run_8Ic2huldUvv04zi9XXyy0v3G', 'role': 'assistant', 'content': [{'type': 'text', 'text': {'value': \"Here are some prominent legal precedents regarding cases of water leakage or related issues affecting properties in Washington over the past 25 years:\\n\\n1. **Tucker v. Hayford (2001)**: In this case, tenants claimed damages due to personal injuries from drinking contaminated well water. The court concluded that the tenants could pursue claims under common law, breach of lease agreements, and the Washington Residential Landlord-Tenant Act. The ruling emphasized that landlords have obligations to maintain their properties in a manner that ensures tenant safety and health.\\n\\n2. **Rothweiler v. Clark County (2001)**: A homeowner’s claims against the county for failing to maintain the stormwater drainage system, which resulted in flooding, were dismissed based on the common enemy doctrine. The court noted that while landowners may divert surface water without liability, municipalities have a duty not to artificially collect and discharge water onto neighboring properties.\\n\\n3. **Pham v. Corbett (2013)**: In this case, tenants counterclaimed for relocation assistance under the Washington Tenant Act due to poor conditions in their unit, including water leaks and infestations. The court found in favor of the tenants, indicating that landlords are responsible for maintaining habitable living conditions, the breach of which can lead to damages.\\n\\n4. **Lian v. Stalick (2001)**: Here, the court recognized the implied warranty of habitability under the Residential Landlord-Tenant Act. A tenant sued for injuries resulting from unsafe living conditions, and the court concluded that the landlord's negligence in maintaining safe premises constituted a breach of that warranty.\\n\\n5. **Borden v. City of Olympia (2002)**: This case involved claims against the city for flooding resulting from increased stormwater discharged into a wetland and subsequently affecting the plaintiffs' property. The court held that a city could be liable if its actions led to artificially channeling water that resulted in flooding. \\n\\n6. **DiBlasi v. City of Seattle (1998)**: The court ruled that a municipality might be held liable for damages caused when it collects surface water on a street and discharges it onto another person's property in a manner different from the natural flow.\\n\\n7. **1515-1519 Lakeview Boulevard Condominium Ass'n v. Apartment Sales Corp. (2006)**: Homeowners filed suit against the city for permitting the construction of condominiums in a risk-prone area. The court examined whether the city had a duty to protect property owners from risks of soil movement and determined liability based on negligence in maintaining storm drains.\\n\\nEach of these cases illustrates the legal landscape in Washington related to landlord responsibilities, municipal liability for water management, and tenant protections under applicable rental laws.\", 'annotations': []}}], 'attachments': [], 'metadata': {}}, {'id': 'msg_Cmyg8Care8AaqsGP6tMpNAu5', 'object': 'thread.message', 'created_at': 1741193844, 'assistant_id': None, 'thread_id': 'thread_ILOYkJ8mQj8031rJX3kgFdpy', 'run_id': None, 'role': 'user', 'content': [{'type': 'text', 'text': {'value': 'Water leaking into the apartment from the floor above, What are the prominent legal precedents in Washington on this problem in the last 25 years?', 'annotations': []}}], 'attachments': [], 'metadata': {}}], 'first_id': 'msg_bY3zlEV9WbGmAUqtJkCl0ywa', 'last_id': 'msg_Cmyg8Care8AaqsGP6tMpNAu5', 'has_more': False}\n",
      "('Here are some prominent legal precedents regarding cases of water leakage or '\n",
      " 'related issues affecting properties in Washington over the past 25 years:\\n'\n",
      " '\\n'\n",
      " '1. **Tucker v. Hayford (2001)**: In this case, tenants claimed damages due '\n",
      " 'to personal injuries from drinking contaminated well water. The court '\n",
      " 'concluded that the tenants could pursue claims under common law, breach of '\n",
      " 'lease agreements, and the Washington Residential Landlord-Tenant Act. The '\n",
      " 'ruling emphasized that landlords have obligations to maintain their '\n",
      " 'properties in a manner that ensures tenant safety and health.\\n'\n",
      " '\\n'\n",
      " '2. **Rothweiler v. Clark County (2001)**: A homeowner’s claims against the '\n",
      " 'county for failing to maintain the stormwater drainage system, which '\n",
      " 'resulted in flooding, were dismissed based on the common enemy doctrine. The '\n",
      " 'court noted that while landowners may divert surface water without '\n",
      " 'liability, municipalities have a duty not to artificially collect and '\n",
      " 'discharge water onto neighboring properties.\\n'\n",
      " '\\n'\n",
      " '3. **Pham v. Corbett (2013)**: In this case, tenants counterclaimed for '\n",
      " 'relocation assistance under the Washington Tenant Act due to poor conditions '\n",
      " 'in their unit, including water leaks and infestations. The court found in '\n",
      " 'favor of the tenants, indicating that landlords are responsible for '\n",
      " 'maintaining habitable living conditions, the breach of which can lead to '\n",
      " 'damages.\\n'\n",
      " '\\n'\n",
      " '4. **Lian v. Stalick (2001)**: Here, the court recognized the implied '\n",
      " 'warranty of habitability under the Residential Landlord-Tenant Act. A tenant '\n",
      " 'sued for injuries resulting from unsafe living conditions, and the court '\n",
      " \"concluded that the landlord's negligence in maintaining safe premises \"\n",
      " 'constituted a breach of that warranty.\\n'\n",
      " '\\n'\n",
      " '5. **Borden v. City of Olympia (2002)**: This case involved claims against '\n",
      " 'the city for flooding resulting from increased stormwater discharged into a '\n",
      " \"wetland and subsequently affecting the plaintiffs' property. The court held \"\n",
      " 'that a city could be liable if its actions led to artificially channeling '\n",
      " 'water that resulted in flooding. \\n'\n",
      " '\\n'\n",
      " '6. **DiBlasi v. City of Seattle (1998)**: The court ruled that a '\n",
      " 'municipality might be held liable for damages caused when it collects '\n",
      " \"surface water on a street and discharges it onto another person's property \"\n",
      " 'in a manner different from the natural flow.\\n'\n",
      " '\\n'\n",
      " \"7. **1515-1519 Lakeview Boulevard Condominium Ass'n v. Apartment Sales Corp. \"\n",
      " '(2006)**: Homeowners filed suit against the city for permitting the '\n",
      " 'construction of condominiums in a risk-prone area. The court examined '\n",
      " 'whether the city had a duty to protect property owners from risks of soil '\n",
      " 'movement and determined liability based on negligence in maintaining storm '\n",
      " 'drains.\\n'\n",
      " '\\n'\n",
      " 'Each of these cases illustrates the legal landscape in Washington related to '\n",
      " 'landlord responsibilities, municipal liability for water management, and '\n",
      " 'tenant protections under applicable rental laws.')\n"
     ]
    }
   ],
   "source": [
    "from pprint import pprint\n",
    "\n",
    "# Create and process agent run in thread with tools\n",
    "run = project_client.agents.create_and_process_run(thread_id=thread.id, assistant_id=agent.id)\n",
    "print(f\"Run finished with status: {run.status}\")\n",
    "\n",
    "if run.status == \"failed\":\n",
    "    print(f\"Run failed: {run.last_error}\")\n",
    "\n",
    "# Fetch and log all messages\n",
    "messages = project_client.agents.list_messages(thread_id=thread.id)\n",
    "print(f\"Messages: {messages}\")\n",
    "pprint(messages['data'][0]['content'][0]['text']['value'])\n"
   ]
  },
  {
   "cell_type": "code",
   "execution_count": 5,
   "metadata": {},
   "outputs": [
    {
     "name": "stdout",
     "output_type": "stream",
     "text": [
      "Deleted agent\n"
     ]
    }
   ],
   "source": [
    "#Delete the agent when done\n",
    "project_client.agents.delete_agent(agent.id)\n",
    "print(\"Deleted agent\")"
   ]
  }
 ],
 "metadata": {
  "kernelspec": {
   "display_name": ".venv",
   "language": "python",
   "name": "python3"
  },
  "language_info": {
   "codemirror_mode": {
    "name": "ipython",
    "version": 3
   },
   "file_extension": ".py",
   "mimetype": "text/x-python",
   "name": "python",
   "nbconvert_exporter": "python",
   "pygments_lexer": "ipython3",
   "version": "3.13.1"
  }
 },
 "nbformat": 4,
 "nbformat_minor": 2
}
