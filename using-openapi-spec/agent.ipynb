{
 "cells": [
  {
   "cell_type": "code",
   "execution_count": 13,
   "metadata": {},
   "outputs": [
    {
     "name": "stdout",
     "output_type": "stream",
     "text": [
      "Requirement already satisfied: jsonref in /Users/abeomorogbe/Library/CloudStorage/OneDrive-Microsoft/Documents/GitHub/pg-azure-ai-foundry/.venv/lib/python3.13/site-packages (1.1.0)\n",
      "Note: you may need to restart the kernel to use updated packages.\n",
      "Requirement already satisfied: azure-ai-projects in /Users/abeomorogbe/Library/CloudStorage/OneDrive-Microsoft/Documents/GitHub/pg-azure-ai-foundry/.venv/lib/python3.13/site-packages (1.0.0b6)\n",
      "Requirement already satisfied: isodate>=0.6.1 in /Users/abeomorogbe/Library/CloudStorage/OneDrive-Microsoft/Documents/GitHub/pg-azure-ai-foundry/.venv/lib/python3.13/site-packages (from azure-ai-projects) (0.7.2)\n",
      "Requirement already satisfied: azure-core>=1.30.0 in /Users/abeomorogbe/Library/CloudStorage/OneDrive-Microsoft/Documents/GitHub/pg-azure-ai-foundry/.venv/lib/python3.13/site-packages (from azure-ai-projects) (1.32.0)\n",
      "Requirement already satisfied: typing-extensions>=4.12.2 in /Users/abeomorogbe/Library/CloudStorage/OneDrive-Microsoft/Documents/GitHub/pg-azure-ai-foundry/.venv/lib/python3.13/site-packages (from azure-ai-projects) (4.12.2)\n",
      "Requirement already satisfied: requests>=2.21.0 in /Users/abeomorogbe/Library/CloudStorage/OneDrive-Microsoft/Documents/GitHub/pg-azure-ai-foundry/.venv/lib/python3.13/site-packages (from azure-core>=1.30.0->azure-ai-projects) (2.32.3)\n",
      "Requirement already satisfied: six>=1.11.0 in /Users/abeomorogbe/Library/CloudStorage/OneDrive-Microsoft/Documents/GitHub/pg-azure-ai-foundry/.venv/lib/python3.13/site-packages (from azure-core>=1.30.0->azure-ai-projects) (1.17.0)\n",
      "Requirement already satisfied: charset-normalizer<4,>=2 in /Users/abeomorogbe/Library/CloudStorage/OneDrive-Microsoft/Documents/GitHub/pg-azure-ai-foundry/.venv/lib/python3.13/site-packages (from requests>=2.21.0->azure-core>=1.30.0->azure-ai-projects) (3.4.1)\n",
      "Requirement already satisfied: idna<4,>=2.5 in /Users/abeomorogbe/Library/CloudStorage/OneDrive-Microsoft/Documents/GitHub/pg-azure-ai-foundry/.venv/lib/python3.13/site-packages (from requests>=2.21.0->azure-core>=1.30.0->azure-ai-projects) (3.10)\n",
      "Requirement already satisfied: urllib3<3,>=1.21.1 in /Users/abeomorogbe/Library/CloudStorage/OneDrive-Microsoft/Documents/GitHub/pg-azure-ai-foundry/.venv/lib/python3.13/site-packages (from requests>=2.21.0->azure-core>=1.30.0->azure-ai-projects) (2.3.0)\n",
      "Requirement already satisfied: certifi>=2017.4.17 in /Users/abeomorogbe/Library/CloudStorage/OneDrive-Microsoft/Documents/GitHub/pg-azure-ai-foundry/.venv/lib/python3.13/site-packages (from requests>=2.21.0->azure-core>=1.30.0->azure-ai-projects) (2025.1.31)\n",
      "Note: you may need to restart the kernel to use updated packages.\n",
      "Requirement already satisfied: python-dotenv in /Users/abeomorogbe/Library/CloudStorage/OneDrive-Microsoft/Documents/GitHub/pg-azure-ai-foundry/.venv/lib/python3.13/site-packages (1.0.1)\n",
      "Note: you may need to restart the kernel to use updated packages.\n",
      "\u001b[31mERROR: Could not find a version that satisfies the requirement opentelemetry (from versions: none)\u001b[0m\u001b[31m\n",
      "\u001b[0m\u001b[31mERROR: No matching distribution found for opentelemetry\u001b[0m\u001b[31m\n",
      "\u001b[0mNote: you may need to restart the kernel to use updated packages.\n",
      "Requirement already satisfied: azure-core-tracing-opentelemetry in /Users/abeomorogbe/Library/CloudStorage/OneDrive-Microsoft/Documents/GitHub/pg-azure-ai-foundry/.venv/lib/python3.13/site-packages (1.0.0b11)\n",
      "Requirement already satisfied: opentelemetry-api<2.0.0,>=1.12.0 in /Users/abeomorogbe/Library/CloudStorage/OneDrive-Microsoft/Documents/GitHub/pg-azure-ai-foundry/.venv/lib/python3.13/site-packages (from azure-core-tracing-opentelemetry) (1.30.0)\n",
      "Requirement already satisfied: azure-core<2.0.0,>=1.24.0 in /Users/abeomorogbe/Library/CloudStorage/OneDrive-Microsoft/Documents/GitHub/pg-azure-ai-foundry/.venv/lib/python3.13/site-packages (from azure-core-tracing-opentelemetry) (1.32.0)\n",
      "Requirement already satisfied: requests>=2.21.0 in /Users/abeomorogbe/Library/CloudStorage/OneDrive-Microsoft/Documents/GitHub/pg-azure-ai-foundry/.venv/lib/python3.13/site-packages (from azure-core<2.0.0,>=1.24.0->azure-core-tracing-opentelemetry) (2.32.3)\n",
      "Requirement already satisfied: six>=1.11.0 in /Users/abeomorogbe/Library/CloudStorage/OneDrive-Microsoft/Documents/GitHub/pg-azure-ai-foundry/.venv/lib/python3.13/site-packages (from azure-core<2.0.0,>=1.24.0->azure-core-tracing-opentelemetry) (1.17.0)\n",
      "Requirement already satisfied: typing-extensions>=4.6.0 in /Users/abeomorogbe/Library/CloudStorage/OneDrive-Microsoft/Documents/GitHub/pg-azure-ai-foundry/.venv/lib/python3.13/site-packages (from azure-core<2.0.0,>=1.24.0->azure-core-tracing-opentelemetry) (4.12.2)\n",
      "Requirement already satisfied: deprecated>=1.2.6 in /Users/abeomorogbe/Library/CloudStorage/OneDrive-Microsoft/Documents/GitHub/pg-azure-ai-foundry/.venv/lib/python3.13/site-packages (from opentelemetry-api<2.0.0,>=1.12.0->azure-core-tracing-opentelemetry) (1.2.18)\n",
      "Requirement already satisfied: importlib-metadata<=8.5.0,>=6.0 in /Users/abeomorogbe/Library/CloudStorage/OneDrive-Microsoft/Documents/GitHub/pg-azure-ai-foundry/.venv/lib/python3.13/site-packages (from opentelemetry-api<2.0.0,>=1.12.0->azure-core-tracing-opentelemetry) (8.5.0)\n",
      "Requirement already satisfied: wrapt<2,>=1.10 in /Users/abeomorogbe/Library/CloudStorage/OneDrive-Microsoft/Documents/GitHub/pg-azure-ai-foundry/.venv/lib/python3.13/site-packages (from deprecated>=1.2.6->opentelemetry-api<2.0.0,>=1.12.0->azure-core-tracing-opentelemetry) (1.17.2)\n",
      "Requirement already satisfied: zipp>=3.20 in /Users/abeomorogbe/Library/CloudStorage/OneDrive-Microsoft/Documents/GitHub/pg-azure-ai-foundry/.venv/lib/python3.13/site-packages (from importlib-metadata<=8.5.0,>=6.0->opentelemetry-api<2.0.0,>=1.12.0->azure-core-tracing-opentelemetry) (3.21.0)\n",
      "Requirement already satisfied: charset-normalizer<4,>=2 in /Users/abeomorogbe/Library/CloudStorage/OneDrive-Microsoft/Documents/GitHub/pg-azure-ai-foundry/.venv/lib/python3.13/site-packages (from requests>=2.21.0->azure-core<2.0.0,>=1.24.0->azure-core-tracing-opentelemetry) (3.4.1)\n",
      "Requirement already satisfied: idna<4,>=2.5 in /Users/abeomorogbe/Library/CloudStorage/OneDrive-Microsoft/Documents/GitHub/pg-azure-ai-foundry/.venv/lib/python3.13/site-packages (from requests>=2.21.0->azure-core<2.0.0,>=1.24.0->azure-core-tracing-opentelemetry) (3.10)\n",
      "Requirement already satisfied: urllib3<3,>=1.21.1 in /Users/abeomorogbe/Library/CloudStorage/OneDrive-Microsoft/Documents/GitHub/pg-azure-ai-foundry/.venv/lib/python3.13/site-packages (from requests>=2.21.0->azure-core<2.0.0,>=1.24.0->azure-core-tracing-opentelemetry) (2.3.0)\n",
      "Requirement already satisfied: certifi>=2017.4.17 in /Users/abeomorogbe/Library/CloudStorage/OneDrive-Microsoft/Documents/GitHub/pg-azure-ai-foundry/.venv/lib/python3.13/site-packages (from requests>=2.21.0->azure-core<2.0.0,>=1.24.0->azure-core-tracing-opentelemetry) (2025.1.31)\n",
      "Note: you may need to restart the kernel to use updated packages.\n"
     ]
    }
   ],
   "source": [
    "%pip install jsonref\n",
    "%pip install azure-ai-projects\n",
    "%pip install python-dotenv\n",
    "%pip install \"opentelemetry\"\n",
    "%pip install \"azure-core-tracing-opentelemetry\""
   ]
  },
  {
   "cell_type": "code",
   "execution_count": 16,
   "metadata": {},
   "outputs": [
    {
     "name": "stdout",
     "output_type": "stream",
     "text": [
      "Requirement already satisfied: azure-ai-projects in /Users/abeomorogbe/Library/CloudStorage/OneDrive-Microsoft/Documents/GitHub/pg-azure-ai-foundry/.venv/lib/python3.13/site-packages (1.0.0b6)\n",
      "Requirement already satisfied: azure-identity in /Users/abeomorogbe/Library/CloudStorage/OneDrive-Microsoft/Documents/GitHub/pg-azure-ai-foundry/.venv/lib/python3.13/site-packages (1.20.0)\n",
      "Requirement already satisfied: opentelemetry-sdk in /Users/abeomorogbe/Library/CloudStorage/OneDrive-Microsoft/Documents/GitHub/pg-azure-ai-foundry/.venv/lib/python3.13/site-packages (1.30.0)\n",
      "Requirement already satisfied: azure-core-tracing-opentelemetry in /Users/abeomorogbe/Library/CloudStorage/OneDrive-Microsoft/Documents/GitHub/pg-azure-ai-foundry/.venv/lib/python3.13/site-packages (1.0.0b11)\n",
      "Requirement already satisfied: isodate>=0.6.1 in /Users/abeomorogbe/Library/CloudStorage/OneDrive-Microsoft/Documents/GitHub/pg-azure-ai-foundry/.venv/lib/python3.13/site-packages (from azure-ai-projects) (0.7.2)\n",
      "Requirement already satisfied: azure-core>=1.30.0 in /Users/abeomorogbe/Library/CloudStorage/OneDrive-Microsoft/Documents/GitHub/pg-azure-ai-foundry/.venv/lib/python3.13/site-packages (from azure-ai-projects) (1.32.0)\n",
      "Requirement already satisfied: typing-extensions>=4.12.2 in /Users/abeomorogbe/Library/CloudStorage/OneDrive-Microsoft/Documents/GitHub/pg-azure-ai-foundry/.venv/lib/python3.13/site-packages (from azure-ai-projects) (4.12.2)\n",
      "Requirement already satisfied: cryptography>=2.5 in /Users/abeomorogbe/Library/CloudStorage/OneDrive-Microsoft/Documents/GitHub/pg-azure-ai-foundry/.venv/lib/python3.13/site-packages (from azure-identity) (44.0.1)\n",
      "Requirement already satisfied: msal>=1.30.0 in /Users/abeomorogbe/Library/CloudStorage/OneDrive-Microsoft/Documents/GitHub/pg-azure-ai-foundry/.venv/lib/python3.13/site-packages (from azure-identity) (1.31.1)\n",
      "Requirement already satisfied: msal-extensions>=1.2.0 in /Users/abeomorogbe/Library/CloudStorage/OneDrive-Microsoft/Documents/GitHub/pg-azure-ai-foundry/.venv/lib/python3.13/site-packages (from azure-identity) (1.2.0)\n",
      "Requirement already satisfied: opentelemetry-api==1.30.0 in /Users/abeomorogbe/Library/CloudStorage/OneDrive-Microsoft/Documents/GitHub/pg-azure-ai-foundry/.venv/lib/python3.13/site-packages (from opentelemetry-sdk) (1.30.0)\n",
      "Requirement already satisfied: opentelemetry-semantic-conventions==0.51b0 in /Users/abeomorogbe/Library/CloudStorage/OneDrive-Microsoft/Documents/GitHub/pg-azure-ai-foundry/.venv/lib/python3.13/site-packages (from opentelemetry-sdk) (0.51b0)\n",
      "Requirement already satisfied: deprecated>=1.2.6 in /Users/abeomorogbe/Library/CloudStorage/OneDrive-Microsoft/Documents/GitHub/pg-azure-ai-foundry/.venv/lib/python3.13/site-packages (from opentelemetry-api==1.30.0->opentelemetry-sdk) (1.2.18)\n",
      "Requirement already satisfied: importlib-metadata<=8.5.0,>=6.0 in /Users/abeomorogbe/Library/CloudStorage/OneDrive-Microsoft/Documents/GitHub/pg-azure-ai-foundry/.venv/lib/python3.13/site-packages (from opentelemetry-api==1.30.0->opentelemetry-sdk) (8.5.0)\n",
      "Requirement already satisfied: requests>=2.21.0 in /Users/abeomorogbe/Library/CloudStorage/OneDrive-Microsoft/Documents/GitHub/pg-azure-ai-foundry/.venv/lib/python3.13/site-packages (from azure-core>=1.30.0->azure-ai-projects) (2.32.3)\n",
      "Requirement already satisfied: six>=1.11.0 in /Users/abeomorogbe/Library/CloudStorage/OneDrive-Microsoft/Documents/GitHub/pg-azure-ai-foundry/.venv/lib/python3.13/site-packages (from azure-core>=1.30.0->azure-ai-projects) (1.17.0)\n",
      "Requirement already satisfied: cffi>=1.12 in /Users/abeomorogbe/Library/CloudStorage/OneDrive-Microsoft/Documents/GitHub/pg-azure-ai-foundry/.venv/lib/python3.13/site-packages (from cryptography>=2.5->azure-identity) (1.17.1)\n",
      "Requirement already satisfied: PyJWT<3,>=1.0.0 in /Users/abeomorogbe/Library/CloudStorage/OneDrive-Microsoft/Documents/GitHub/pg-azure-ai-foundry/.venv/lib/python3.13/site-packages (from PyJWT[crypto]<3,>=1.0.0->msal>=1.30.0->azure-identity) (2.10.1)\n",
      "Requirement already satisfied: portalocker<3,>=1.4 in /Users/abeomorogbe/Library/CloudStorage/OneDrive-Microsoft/Documents/GitHub/pg-azure-ai-foundry/.venv/lib/python3.13/site-packages (from msal-extensions>=1.2.0->azure-identity) (2.10.1)\n",
      "Requirement already satisfied: pycparser in /Users/abeomorogbe/Library/CloudStorage/OneDrive-Microsoft/Documents/GitHub/pg-azure-ai-foundry/.venv/lib/python3.13/site-packages (from cffi>=1.12->cryptography>=2.5->azure-identity) (2.22)\n",
      "Requirement already satisfied: wrapt<2,>=1.10 in /Users/abeomorogbe/Library/CloudStorage/OneDrive-Microsoft/Documents/GitHub/pg-azure-ai-foundry/.venv/lib/python3.13/site-packages (from deprecated>=1.2.6->opentelemetry-api==1.30.0->opentelemetry-sdk) (1.17.2)\n",
      "Requirement already satisfied: zipp>=3.20 in /Users/abeomorogbe/Library/CloudStorage/OneDrive-Microsoft/Documents/GitHub/pg-azure-ai-foundry/.venv/lib/python3.13/site-packages (from importlib-metadata<=8.5.0,>=6.0->opentelemetry-api==1.30.0->opentelemetry-sdk) (3.21.0)\n",
      "Requirement already satisfied: charset-normalizer<4,>=2 in /Users/abeomorogbe/Library/CloudStorage/OneDrive-Microsoft/Documents/GitHub/pg-azure-ai-foundry/.venv/lib/python3.13/site-packages (from requests>=2.21.0->azure-core>=1.30.0->azure-ai-projects) (3.4.1)\n",
      "Requirement already satisfied: idna<4,>=2.5 in /Users/abeomorogbe/Library/CloudStorage/OneDrive-Microsoft/Documents/GitHub/pg-azure-ai-foundry/.venv/lib/python3.13/site-packages (from requests>=2.21.0->azure-core>=1.30.0->azure-ai-projects) (3.10)\n",
      "Requirement already satisfied: urllib3<3,>=1.21.1 in /Users/abeomorogbe/Library/CloudStorage/OneDrive-Microsoft/Documents/GitHub/pg-azure-ai-foundry/.venv/lib/python3.13/site-packages (from requests>=2.21.0->azure-core>=1.30.0->azure-ai-projects) (2.3.0)\n",
      "Requirement already satisfied: certifi>=2017.4.17 in /Users/abeomorogbe/Library/CloudStorage/OneDrive-Microsoft/Documents/GitHub/pg-azure-ai-foundry/.venv/lib/python3.13/site-packages (from requests>=2.21.0->azure-core>=1.30.0->azure-ai-projects) (2025.1.31)\n",
      "Note: you may need to restart the kernel to use updated packages.\n"
     ]
    }
   ],
   "source": [
    "%pip install azure-ai-projects azure-identity opentelemetry-sdk azure-core-tracing-opentelemetry"
   ]
  },
  {
   "cell_type": "code",
   "execution_count": 14,
   "metadata": {},
   "outputs": [
    {
     "name": "stdout",
     "output_type": "stream",
     "text": [
      "Requirement already satisfied: opentelemetry-sdk in /Users/abeomorogbe/Library/CloudStorage/OneDrive-Microsoft/Documents/GitHub/pg-azure-ai-foundry/.venv/lib/python3.13/site-packages (1.30.0)\n",
      "Requirement already satisfied: opentelemetry-api==1.30.0 in /Users/abeomorogbe/Library/CloudStorage/OneDrive-Microsoft/Documents/GitHub/pg-azure-ai-foundry/.venv/lib/python3.13/site-packages (from opentelemetry-sdk) (1.30.0)\n",
      "Requirement already satisfied: opentelemetry-semantic-conventions==0.51b0 in /Users/abeomorogbe/Library/CloudStorage/OneDrive-Microsoft/Documents/GitHub/pg-azure-ai-foundry/.venv/lib/python3.13/site-packages (from opentelemetry-sdk) (0.51b0)\n",
      "Requirement already satisfied: typing-extensions>=3.7.4 in /Users/abeomorogbe/Library/CloudStorage/OneDrive-Microsoft/Documents/GitHub/pg-azure-ai-foundry/.venv/lib/python3.13/site-packages (from opentelemetry-sdk) (4.12.2)\n",
      "Requirement already satisfied: deprecated>=1.2.6 in /Users/abeomorogbe/Library/CloudStorage/OneDrive-Microsoft/Documents/GitHub/pg-azure-ai-foundry/.venv/lib/python3.13/site-packages (from opentelemetry-api==1.30.0->opentelemetry-sdk) (1.2.18)\n",
      "Requirement already satisfied: importlib-metadata<=8.5.0,>=6.0 in /Users/abeomorogbe/Library/CloudStorage/OneDrive-Microsoft/Documents/GitHub/pg-azure-ai-foundry/.venv/lib/python3.13/site-packages (from opentelemetry-api==1.30.0->opentelemetry-sdk) (8.5.0)\n",
      "Requirement already satisfied: wrapt<2,>=1.10 in /Users/abeomorogbe/Library/CloudStorage/OneDrive-Microsoft/Documents/GitHub/pg-azure-ai-foundry/.venv/lib/python3.13/site-packages (from deprecated>=1.2.6->opentelemetry-api==1.30.0->opentelemetry-sdk) (1.17.2)\n",
      "Requirement already satisfied: zipp>=3.20 in /Users/abeomorogbe/Library/CloudStorage/OneDrive-Microsoft/Documents/GitHub/pg-azure-ai-foundry/.venv/lib/python3.13/site-packages (from importlib-metadata<=8.5.0,>=6.0->opentelemetry-api==1.30.0->opentelemetry-sdk) (3.21.0)\n",
      "Note: you may need to restart the kernel to use updated packages.\n",
      "Requirement already satisfied: opentelemetry-api in /Users/abeomorogbe/Library/CloudStorage/OneDrive-Microsoft/Documents/GitHub/pg-azure-ai-foundry/.venv/lib/python3.13/site-packages (1.30.0)\n",
      "Requirement already satisfied: deprecated>=1.2.6 in /Users/abeomorogbe/Library/CloudStorage/OneDrive-Microsoft/Documents/GitHub/pg-azure-ai-foundry/.venv/lib/python3.13/site-packages (from opentelemetry-api) (1.2.18)\n",
      "Requirement already satisfied: importlib-metadata<=8.5.0,>=6.0 in /Users/abeomorogbe/Library/CloudStorage/OneDrive-Microsoft/Documents/GitHub/pg-azure-ai-foundry/.venv/lib/python3.13/site-packages (from opentelemetry-api) (8.5.0)\n",
      "Requirement already satisfied: wrapt<2,>=1.10 in /Users/abeomorogbe/Library/CloudStorage/OneDrive-Microsoft/Documents/GitHub/pg-azure-ai-foundry/.venv/lib/python3.13/site-packages (from deprecated>=1.2.6->opentelemetry-api) (1.17.2)\n",
      "Requirement already satisfied: zipp>=3.20 in /Users/abeomorogbe/Library/CloudStorage/OneDrive-Microsoft/Documents/GitHub/pg-azure-ai-foundry/.venv/lib/python3.13/site-packages (from importlib-metadata<=8.5.0,>=6.0->opentelemetry-api) (3.21.0)\n",
      "Note: you may need to restart the kernel to use updated packages.\n",
      "Requirement already satisfied: opentelemetry-exporter-otlp in /Users/abeomorogbe/Library/CloudStorage/OneDrive-Microsoft/Documents/GitHub/pg-azure-ai-foundry/.venv/lib/python3.13/site-packages (1.30.0)\n",
      "Requirement already satisfied: opentelemetry-exporter-otlp-proto-grpc==1.30.0 in /Users/abeomorogbe/Library/CloudStorage/OneDrive-Microsoft/Documents/GitHub/pg-azure-ai-foundry/.venv/lib/python3.13/site-packages (from opentelemetry-exporter-otlp) (1.30.0)\n",
      "Requirement already satisfied: opentelemetry-exporter-otlp-proto-http==1.30.0 in /Users/abeomorogbe/Library/CloudStorage/OneDrive-Microsoft/Documents/GitHub/pg-azure-ai-foundry/.venv/lib/python3.13/site-packages (from opentelemetry-exporter-otlp) (1.30.0)\n",
      "Requirement already satisfied: deprecated>=1.2.6 in /Users/abeomorogbe/Library/CloudStorage/OneDrive-Microsoft/Documents/GitHub/pg-azure-ai-foundry/.venv/lib/python3.13/site-packages (from opentelemetry-exporter-otlp-proto-grpc==1.30.0->opentelemetry-exporter-otlp) (1.2.18)\n",
      "Requirement already satisfied: googleapis-common-protos~=1.52 in /Users/abeomorogbe/Library/CloudStorage/OneDrive-Microsoft/Documents/GitHub/pg-azure-ai-foundry/.venv/lib/python3.13/site-packages (from opentelemetry-exporter-otlp-proto-grpc==1.30.0->opentelemetry-exporter-otlp) (1.68.0)\n",
      "Requirement already satisfied: grpcio<2.0.0,>=1.63.2 in /Users/abeomorogbe/Library/CloudStorage/OneDrive-Microsoft/Documents/GitHub/pg-azure-ai-foundry/.venv/lib/python3.13/site-packages (from opentelemetry-exporter-otlp-proto-grpc==1.30.0->opentelemetry-exporter-otlp) (1.70.0)\n",
      "Requirement already satisfied: opentelemetry-api~=1.15 in /Users/abeomorogbe/Library/CloudStorage/OneDrive-Microsoft/Documents/GitHub/pg-azure-ai-foundry/.venv/lib/python3.13/site-packages (from opentelemetry-exporter-otlp-proto-grpc==1.30.0->opentelemetry-exporter-otlp) (1.30.0)\n",
      "Requirement already satisfied: opentelemetry-exporter-otlp-proto-common==1.30.0 in /Users/abeomorogbe/Library/CloudStorage/OneDrive-Microsoft/Documents/GitHub/pg-azure-ai-foundry/.venv/lib/python3.13/site-packages (from opentelemetry-exporter-otlp-proto-grpc==1.30.0->opentelemetry-exporter-otlp) (1.30.0)\n",
      "Requirement already satisfied: opentelemetry-proto==1.30.0 in /Users/abeomorogbe/Library/CloudStorage/OneDrive-Microsoft/Documents/GitHub/pg-azure-ai-foundry/.venv/lib/python3.13/site-packages (from opentelemetry-exporter-otlp-proto-grpc==1.30.0->opentelemetry-exporter-otlp) (1.30.0)\n",
      "Requirement already satisfied: opentelemetry-sdk~=1.30.0 in /Users/abeomorogbe/Library/CloudStorage/OneDrive-Microsoft/Documents/GitHub/pg-azure-ai-foundry/.venv/lib/python3.13/site-packages (from opentelemetry-exporter-otlp-proto-grpc==1.30.0->opentelemetry-exporter-otlp) (1.30.0)\n",
      "Requirement already satisfied: requests~=2.7 in /Users/abeomorogbe/Library/CloudStorage/OneDrive-Microsoft/Documents/GitHub/pg-azure-ai-foundry/.venv/lib/python3.13/site-packages (from opentelemetry-exporter-otlp-proto-http==1.30.0->opentelemetry-exporter-otlp) (2.32.3)\n",
      "Requirement already satisfied: protobuf<6.0,>=5.0 in /Users/abeomorogbe/Library/CloudStorage/OneDrive-Microsoft/Documents/GitHub/pg-azure-ai-foundry/.venv/lib/python3.13/site-packages (from opentelemetry-proto==1.30.0->opentelemetry-exporter-otlp-proto-grpc==1.30.0->opentelemetry-exporter-otlp) (5.29.3)\n",
      "Requirement already satisfied: wrapt<2,>=1.10 in /Users/abeomorogbe/Library/CloudStorage/OneDrive-Microsoft/Documents/GitHub/pg-azure-ai-foundry/.venv/lib/python3.13/site-packages (from deprecated>=1.2.6->opentelemetry-exporter-otlp-proto-grpc==1.30.0->opentelemetry-exporter-otlp) (1.17.2)\n",
      "Requirement already satisfied: importlib-metadata<=8.5.0,>=6.0 in /Users/abeomorogbe/Library/CloudStorage/OneDrive-Microsoft/Documents/GitHub/pg-azure-ai-foundry/.venv/lib/python3.13/site-packages (from opentelemetry-api~=1.15->opentelemetry-exporter-otlp-proto-grpc==1.30.0->opentelemetry-exporter-otlp) (8.5.0)\n",
      "Requirement already satisfied: opentelemetry-semantic-conventions==0.51b0 in /Users/abeomorogbe/Library/CloudStorage/OneDrive-Microsoft/Documents/GitHub/pg-azure-ai-foundry/.venv/lib/python3.13/site-packages (from opentelemetry-sdk~=1.30.0->opentelemetry-exporter-otlp-proto-grpc==1.30.0->opentelemetry-exporter-otlp) (0.51b0)\n",
      "Requirement already satisfied: typing-extensions>=3.7.4 in /Users/abeomorogbe/Library/CloudStorage/OneDrive-Microsoft/Documents/GitHub/pg-azure-ai-foundry/.venv/lib/python3.13/site-packages (from opentelemetry-sdk~=1.30.0->opentelemetry-exporter-otlp-proto-grpc==1.30.0->opentelemetry-exporter-otlp) (4.12.2)\n",
      "Requirement already satisfied: charset-normalizer<4,>=2 in /Users/abeomorogbe/Library/CloudStorage/OneDrive-Microsoft/Documents/GitHub/pg-azure-ai-foundry/.venv/lib/python3.13/site-packages (from requests~=2.7->opentelemetry-exporter-otlp-proto-http==1.30.0->opentelemetry-exporter-otlp) (3.4.1)\n",
      "Requirement already satisfied: idna<4,>=2.5 in /Users/abeomorogbe/Library/CloudStorage/OneDrive-Microsoft/Documents/GitHub/pg-azure-ai-foundry/.venv/lib/python3.13/site-packages (from requests~=2.7->opentelemetry-exporter-otlp-proto-http==1.30.0->opentelemetry-exporter-otlp) (3.10)\n",
      "Requirement already satisfied: urllib3<3,>=1.21.1 in /Users/abeomorogbe/Library/CloudStorage/OneDrive-Microsoft/Documents/GitHub/pg-azure-ai-foundry/.venv/lib/python3.13/site-packages (from requests~=2.7->opentelemetry-exporter-otlp-proto-http==1.30.0->opentelemetry-exporter-otlp) (2.3.0)\n",
      "Requirement already satisfied: certifi>=2017.4.17 in /Users/abeomorogbe/Library/CloudStorage/OneDrive-Microsoft/Documents/GitHub/pg-azure-ai-foundry/.venv/lib/python3.13/site-packages (from requests~=2.7->opentelemetry-exporter-otlp-proto-http==1.30.0->opentelemetry-exporter-otlp) (2025.1.31)\n",
      "Requirement already satisfied: zipp>=3.20 in /Users/abeomorogbe/Library/CloudStorage/OneDrive-Microsoft/Documents/GitHub/pg-azure-ai-foundry/.venv/lib/python3.13/site-packages (from importlib-metadata<=8.5.0,>=6.0->opentelemetry-api~=1.15->opentelemetry-exporter-otlp-proto-grpc==1.30.0->opentelemetry-exporter-otlp) (3.21.0)\n",
      "Note: you may need to restart the kernel to use updated packages.\n"
     ]
    }
   ],
   "source": [
    "%pip install opentelemetry-sdk\n",
    "%pip install opentelemetry-api\n",
    "%pip install opentelemetry-exporter-otlp"
   ]
  },
  {
   "cell_type": "code",
   "execution_count": null,
   "metadata": {},
   "outputs": [],
   "source": [
    "from azure.ai.projects import AIProjectClient\n",
    "from azure.identity import DefaultAzureCredential\n",
    "\n",
    "project_client = AIProjectClient.from_connection_string(\n",
    "    credential=DefaultAzureCredential(),\n",
    "    conn_str=\"eastus2.api.azureml.ms;5c5037e5-d3f1-4e7b-b3a9-f6bf94902b30;rg-abeomorogbe-0793_ai;abeomorogbe-2923\",\n",
    ")\n",
    "\n",
    "application_insights_connection_string = project_client.telemetry.get_connection_string()"
   ]
  },
  {
   "cell_type": "code",
   "execution_count": 15,
   "metadata": {},
   "outputs": [],
   "source": [
    "from azure.core.settings import settings \n",
    "\n",
    "settings.tracing_implementation = \"opentelemetry\"\n",
    "\n",
    "from azure.ai.inference.tracing import AIInferenceInstrumentor \n",
    "\n",
    "# Instrument AI Inference API \n",
    "\n",
    "AIInferenceInstrumentor().instrument()"
   ]
  },
  {
   "cell_type": "code",
   "execution_count": 3,
   "metadata": {},
   "outputs": [],
   "source": [
    "import os\n",
    "import jsonref\n",
    "from azure.ai.projects import AIProjectClient\n",
    "from azure.identity import DefaultAzureCredential\n",
    "from azure.ai.projects.models import OpenApiTool, OpenApiAnonymousAuthDetails, OpenApiConnectionSecurityScheme, OpenApiConnectionAuthDetails\n",
    "from dotenv import load_dotenv\n",
    "load_dotenv(\".env\")\n",
    "\n",
    "\n",
    "# Create an Azure AI Client from a connection string, copied from your Azure AI Foundry project.\n",
    "# At the moment, it should be in the format \"<HostName>;<AzureSubscriptionId>;<ResourceGroup>;<HubName>\"\n",
    "# Customer needs to login to Azure subscription via Azure CLI and set the environment variables\n",
    "\n",
    "# project_client = AIProjectClient.from_connection_string(\n",
    "#     credential=DefaultAzureCredential(),\n",
    "#     conn_str=os.getenv(\"PROJECT_CONNECTION_STRING\"),\n",
    "# )\n",
    "\n",
    "from azure.ai.projects import AIProjectClient\n",
    "from azure.identity import DefaultAzureCredential\n",
    "\n",
    "project_client = AIProjectClient.from_connection_string(\n",
    "    credential=DefaultAzureCredential(),\n",
    "    conn_str=os.getenv(\"PROJECT_CONNECTION_STRING\"),\n",
    ")\n",
    "\n",
    "application_insights_connection_string = project_client.telemetry.get_connection_string()"
   ]
  },
  {
   "cell_type": "code",
   "execution_count": 5,
   "metadata": {},
   "outputs": [
    {
     "name": "stdout",
     "output_type": "stream",
     "text": [
      "Collecting azure-monitor-opentelemetry\n",
      "  Downloading azure_monitor_opentelemetry-1.6.5-py3-none-any.whl.metadata (21 kB)\n",
      "Requirement already satisfied: azure-core<2.0.0,>=1.28.0 in /Users/abeomorogbe/Library/CloudStorage/OneDrive-Microsoft/Documents/GitHub/pg-azure-ai-foundry/.venv/lib/python3.13/site-packages (from azure-monitor-opentelemetry) (1.32.0)\n",
      "Requirement already satisfied: azure-core-tracing-opentelemetry~=1.0.0b11 in /Users/abeomorogbe/Library/CloudStorage/OneDrive-Microsoft/Documents/GitHub/pg-azure-ai-foundry/.venv/lib/python3.13/site-packages (from azure-monitor-opentelemetry) (1.0.0b11)\n",
      "Collecting azure-monitor-opentelemetry-exporter~=1.0.0b31 (from azure-monitor-opentelemetry)\n",
      "  Downloading azure_monitor_opentelemetry_exporter-1.0.0b34-py2.py3-none-any.whl.metadata (32 kB)\n",
      "Collecting opentelemetry-instrumentation-django~=0.49b0 (from azure-monitor-opentelemetry)\n",
      "  Using cached opentelemetry_instrumentation_django-0.51b0-py3-none-any.whl.metadata (2.3 kB)\n",
      "Collecting opentelemetry-instrumentation-fastapi~=0.49b0 (from azure-monitor-opentelemetry)\n",
      "  Using cached opentelemetry_instrumentation_fastapi-0.51b0-py3-none-any.whl.metadata (2.2 kB)\n",
      "Collecting opentelemetry-instrumentation-flask~=0.49b0 (from azure-monitor-opentelemetry)\n",
      "  Using cached opentelemetry_instrumentation_flask-0.51b0-py3-none-any.whl.metadata (2.2 kB)\n",
      "Collecting opentelemetry-instrumentation-psycopg2~=0.49b0 (from azure-monitor-opentelemetry)\n",
      "  Using cached opentelemetry_instrumentation_psycopg2-0.51b0-py3-none-any.whl.metadata (2.1 kB)\n",
      "Collecting opentelemetry-instrumentation-requests~=0.49b0 (from azure-monitor-opentelemetry)\n",
      "  Using cached opentelemetry_instrumentation_requests-0.51b0-py3-none-any.whl.metadata (2.7 kB)\n",
      "Collecting opentelemetry-instrumentation-urllib~=0.49b0 (from azure-monitor-opentelemetry)\n",
      "  Using cached opentelemetry_instrumentation_urllib-0.51b0-py3-none-any.whl.metadata (3.5 kB)\n",
      "Collecting opentelemetry-instrumentation-urllib3~=0.49b0 (from azure-monitor-opentelemetry)\n",
      "  Using cached opentelemetry_instrumentation_urllib3-0.51b0-py3-none-any.whl.metadata (3.5 kB)\n",
      "Collecting opentelemetry-resource-detector-azure~=0.1.4 (from azure-monitor-opentelemetry)\n",
      "  Using cached opentelemetry_resource_detector_azure-0.1.5-py3-none-any.whl.metadata (5.3 kB)\n",
      "Requirement already satisfied: opentelemetry-sdk~=1.28 in /Users/abeomorogbe/Library/CloudStorage/OneDrive-Microsoft/Documents/GitHub/pg-azure-ai-foundry/.venv/lib/python3.13/site-packages (from azure-monitor-opentelemetry) (1.30.0)\n",
      "Requirement already satisfied: requests>=2.21.0 in /Users/abeomorogbe/Library/CloudStorage/OneDrive-Microsoft/Documents/GitHub/pg-azure-ai-foundry/.venv/lib/python3.13/site-packages (from azure-core<2.0.0,>=1.28.0->azure-monitor-opentelemetry) (2.32.3)\n",
      "Requirement already satisfied: six>=1.11.0 in /Users/abeomorogbe/Library/CloudStorage/OneDrive-Microsoft/Documents/GitHub/pg-azure-ai-foundry/.venv/lib/python3.13/site-packages (from azure-core<2.0.0,>=1.28.0->azure-monitor-opentelemetry) (1.17.0)\n",
      "Requirement already satisfied: typing-extensions>=4.6.0 in /Users/abeomorogbe/Library/CloudStorage/OneDrive-Microsoft/Documents/GitHub/pg-azure-ai-foundry/.venv/lib/python3.13/site-packages (from azure-core<2.0.0,>=1.28.0->azure-monitor-opentelemetry) (4.12.2)\n",
      "Requirement already satisfied: opentelemetry-api<2.0.0,>=1.12.0 in /Users/abeomorogbe/Library/CloudStorage/OneDrive-Microsoft/Documents/GitHub/pg-azure-ai-foundry/.venv/lib/python3.13/site-packages (from azure-core-tracing-opentelemetry~=1.0.0b11->azure-monitor-opentelemetry) (1.30.0)\n",
      "Collecting fixedint==0.1.6 (from azure-monitor-opentelemetry-exporter~=1.0.0b31->azure-monitor-opentelemetry)\n",
      "  Using cached fixedint-0.1.6-py3-none-any.whl.metadata (4.8 kB)\n",
      "Collecting msrest>=0.6.10 (from azure-monitor-opentelemetry-exporter~=1.0.0b31->azure-monitor-opentelemetry)\n",
      "  Using cached msrest-0.7.1-py3-none-any.whl.metadata (21 kB)\n",
      "Collecting psutil<7,>=5.9 (from azure-monitor-opentelemetry-exporter~=1.0.0b31->azure-monitor-opentelemetry)\n",
      "  Using cached psutil-6.1.1-cp36-abi3-macosx_11_0_arm64.whl.metadata (22 kB)\n",
      "Collecting opentelemetry-instrumentation-wsgi==0.51b0 (from opentelemetry-instrumentation-django~=0.49b0->azure-monitor-opentelemetry)\n",
      "  Using cached opentelemetry_instrumentation_wsgi-0.51b0-py3-none-any.whl.metadata (2.2 kB)\n",
      "Collecting opentelemetry-instrumentation==0.51b0 (from opentelemetry-instrumentation-django~=0.49b0->azure-monitor-opentelemetry)\n",
      "  Using cached opentelemetry_instrumentation-0.51b0-py3-none-any.whl.metadata (6.3 kB)\n",
      "Requirement already satisfied: opentelemetry-semantic-conventions==0.51b0 in /Users/abeomorogbe/Library/CloudStorage/OneDrive-Microsoft/Documents/GitHub/pg-azure-ai-foundry/.venv/lib/python3.13/site-packages (from opentelemetry-instrumentation-django~=0.49b0->azure-monitor-opentelemetry) (0.51b0)\n",
      "Collecting opentelemetry-util-http==0.51b0 (from opentelemetry-instrumentation-django~=0.49b0->azure-monitor-opentelemetry)\n",
      "  Downloading opentelemetry_util_http-0.51b0-py3-none-any.whl.metadata (2.6 kB)\n",
      "Requirement already satisfied: packaging>=18.0 in /Users/abeomorogbe/Library/CloudStorage/OneDrive-Microsoft/Documents/GitHub/pg-azure-ai-foundry/.venv/lib/python3.13/site-packages (from opentelemetry-instrumentation==0.51b0->opentelemetry-instrumentation-django~=0.49b0->azure-monitor-opentelemetry) (24.2)\n",
      "Requirement already satisfied: wrapt<2.0.0,>=1.0.0 in /Users/abeomorogbe/Library/CloudStorage/OneDrive-Microsoft/Documents/GitHub/pg-azure-ai-foundry/.venv/lib/python3.13/site-packages (from opentelemetry-instrumentation==0.51b0->opentelemetry-instrumentation-django~=0.49b0->azure-monitor-opentelemetry) (1.17.2)\n",
      "Requirement already satisfied: deprecated>=1.2.6 in /Users/abeomorogbe/Library/CloudStorage/OneDrive-Microsoft/Documents/GitHub/pg-azure-ai-foundry/.venv/lib/python3.13/site-packages (from opentelemetry-semantic-conventions==0.51b0->opentelemetry-instrumentation-django~=0.49b0->azure-monitor-opentelemetry) (1.2.18)\n",
      "Requirement already satisfied: importlib-metadata<=8.5.0,>=6.0 in /Users/abeomorogbe/Library/CloudStorage/OneDrive-Microsoft/Documents/GitHub/pg-azure-ai-foundry/.venv/lib/python3.13/site-packages (from opentelemetry-api<2.0.0,>=1.12.0->azure-core-tracing-opentelemetry~=1.0.0b11->azure-monitor-opentelemetry) (8.5.0)\n",
      "Collecting opentelemetry-instrumentation-asgi==0.51b0 (from opentelemetry-instrumentation-fastapi~=0.49b0->azure-monitor-opentelemetry)\n",
      "  Using cached opentelemetry_instrumentation_asgi-0.51b0-py3-none-any.whl.metadata (2.1 kB)\n",
      "Collecting asgiref~=3.0 (from opentelemetry-instrumentation-asgi==0.51b0->opentelemetry-instrumentation-fastapi~=0.49b0->azure-monitor-opentelemetry)\n",
      "  Using cached asgiref-3.8.1-py3-none-any.whl.metadata (9.3 kB)\n",
      "Collecting opentelemetry-instrumentation-dbapi==0.51b0 (from opentelemetry-instrumentation-psycopg2~=0.49b0->azure-monitor-opentelemetry)\n",
      "  Using cached opentelemetry_instrumentation_dbapi-0.51b0-py3-none-any.whl.metadata (2.0 kB)\n",
      "Requirement already satisfied: certifi>=2017.4.17 in /Users/abeomorogbe/Library/CloudStorage/OneDrive-Microsoft/Documents/GitHub/pg-azure-ai-foundry/.venv/lib/python3.13/site-packages (from msrest>=0.6.10->azure-monitor-opentelemetry-exporter~=1.0.0b31->azure-monitor-opentelemetry) (2025.1.31)\n",
      "Requirement already satisfied: isodate>=0.6.0 in /Users/abeomorogbe/Library/CloudStorage/OneDrive-Microsoft/Documents/GitHub/pg-azure-ai-foundry/.venv/lib/python3.13/site-packages (from msrest>=0.6.10->azure-monitor-opentelemetry-exporter~=1.0.0b31->azure-monitor-opentelemetry) (0.7.2)\n",
      "Collecting requests-oauthlib>=0.5.0 (from msrest>=0.6.10->azure-monitor-opentelemetry-exporter~=1.0.0b31->azure-monitor-opentelemetry)\n",
      "  Using cached requests_oauthlib-2.0.0-py2.py3-none-any.whl.metadata (11 kB)\n",
      "Requirement already satisfied: charset-normalizer<4,>=2 in /Users/abeomorogbe/Library/CloudStorage/OneDrive-Microsoft/Documents/GitHub/pg-azure-ai-foundry/.venv/lib/python3.13/site-packages (from requests>=2.21.0->azure-core<2.0.0,>=1.28.0->azure-monitor-opentelemetry) (3.4.1)\n",
      "Requirement already satisfied: idna<4,>=2.5 in /Users/abeomorogbe/Library/CloudStorage/OneDrive-Microsoft/Documents/GitHub/pg-azure-ai-foundry/.venv/lib/python3.13/site-packages (from requests>=2.21.0->azure-core<2.0.0,>=1.28.0->azure-monitor-opentelemetry) (3.10)\n",
      "Requirement already satisfied: urllib3<3,>=1.21.1 in /Users/abeomorogbe/Library/CloudStorage/OneDrive-Microsoft/Documents/GitHub/pg-azure-ai-foundry/.venv/lib/python3.13/site-packages (from requests>=2.21.0->azure-core<2.0.0,>=1.28.0->azure-monitor-opentelemetry) (2.3.0)\n",
      "Requirement already satisfied: zipp>=3.20 in /Users/abeomorogbe/Library/CloudStorage/OneDrive-Microsoft/Documents/GitHub/pg-azure-ai-foundry/.venv/lib/python3.13/site-packages (from importlib-metadata<=8.5.0,>=6.0->opentelemetry-api<2.0.0,>=1.12.0->azure-core-tracing-opentelemetry~=1.0.0b11->azure-monitor-opentelemetry) (3.21.0)\n",
      "Collecting oauthlib>=3.0.0 (from requests-oauthlib>=0.5.0->msrest>=0.6.10->azure-monitor-opentelemetry-exporter~=1.0.0b31->azure-monitor-opentelemetry)\n",
      "  Using cached oauthlib-3.2.2-py3-none-any.whl.metadata (7.5 kB)\n",
      "Downloading azure_monitor_opentelemetry-1.6.5-py3-none-any.whl (23 kB)\n",
      "Downloading azure_monitor_opentelemetry_exporter-1.0.0b34-py2.py3-none-any.whl (153 kB)\n",
      "Using cached fixedint-0.1.6-py3-none-any.whl (12 kB)\n",
      "Downloading opentelemetry_instrumentation_django-0.51b0-py3-none-any.whl (19 kB)\n",
      "Downloading opentelemetry_instrumentation-0.51b0-py3-none-any.whl (30 kB)\n",
      "Downloading opentelemetry_instrumentation_wsgi-0.51b0-py3-none-any.whl (14 kB)\n",
      "Downloading opentelemetry_util_http-0.51b0-py3-none-any.whl (7.3 kB)\n",
      "Downloading opentelemetry_instrumentation_fastapi-0.51b0-py3-none-any.whl (12 kB)\n",
      "Downloading opentelemetry_instrumentation_asgi-0.51b0-py3-none-any.whl (16 kB)\n",
      "Downloading opentelemetry_instrumentation_flask-0.51b0-py3-none-any.whl (14 kB)\n",
      "Downloading opentelemetry_instrumentation_psycopg2-0.51b0-py3-none-any.whl (10 kB)\n",
      "Downloading opentelemetry_instrumentation_dbapi-0.51b0-py3-none-any.whl (12 kB)\n",
      "Downloading opentelemetry_instrumentation_requests-0.51b0-py3-none-any.whl (12 kB)\n",
      "Downloading opentelemetry_instrumentation_urllib-0.51b0-py3-none-any.whl (12 kB)\n",
      "Downloading opentelemetry_instrumentation_urllib3-0.51b0-py3-none-any.whl (12 kB)\n",
      "Using cached opentelemetry_resource_detector_azure-0.1.5-py3-none-any.whl (14 kB)\n",
      "Using cached msrest-0.7.1-py3-none-any.whl (85 kB)\n",
      "Using cached psutil-6.1.1-cp36-abi3-macosx_11_0_arm64.whl (248 kB)\n",
      "Using cached asgiref-3.8.1-py3-none-any.whl (23 kB)\n",
      "Using cached requests_oauthlib-2.0.0-py2.py3-none-any.whl (24 kB)\n",
      "Using cached oauthlib-3.2.2-py3-none-any.whl (151 kB)\n",
      "Installing collected packages: fixedint, psutil, opentelemetry-util-http, oauthlib, asgiref, requests-oauthlib, msrest, opentelemetry-instrumentation, opentelemetry-resource-detector-azure, opentelemetry-instrumentation-wsgi, opentelemetry-instrumentation-urllib3, opentelemetry-instrumentation-urllib, opentelemetry-instrumentation-requests, opentelemetry-instrumentation-dbapi, opentelemetry-instrumentation-asgi, azure-monitor-opentelemetry-exporter, opentelemetry-instrumentation-psycopg2, opentelemetry-instrumentation-flask, opentelemetry-instrumentation-fastapi, opentelemetry-instrumentation-django, azure-monitor-opentelemetry\n",
      "  Attempting uninstall: psutil\n",
      "    Found existing installation: psutil 7.0.0\n",
      "    Uninstalling psutil-7.0.0:\n",
      "      Successfully uninstalled psutil-7.0.0\n",
      "Successfully installed asgiref-3.8.1 azure-monitor-opentelemetry-1.6.5 azure-monitor-opentelemetry-exporter-1.0.0b34 fixedint-0.1.6 msrest-0.7.1 oauthlib-3.2.2 opentelemetry-instrumentation-0.51b0 opentelemetry-instrumentation-asgi-0.51b0 opentelemetry-instrumentation-dbapi-0.51b0 opentelemetry-instrumentation-django-0.51b0 opentelemetry-instrumentation-fastapi-0.51b0 opentelemetry-instrumentation-flask-0.51b0 opentelemetry-instrumentation-psycopg2-0.51b0 opentelemetry-instrumentation-requests-0.51b0 opentelemetry-instrumentation-urllib-0.51b0 opentelemetry-instrumentation-urllib3-0.51b0 opentelemetry-instrumentation-wsgi-0.51b0 opentelemetry-resource-detector-azure-0.1.5 opentelemetry-util-http-0.51b0 psutil-6.1.1 requests-oauthlib-2.0.0\n",
      "Note: you may need to restart the kernel to use updated packages.\n"
     ]
    }
   ],
   "source": [
    "%pip install azure-monitor-opentelemetry"
   ]
  },
  {
   "cell_type": "code",
   "execution_count": 6,
   "metadata": {},
   "outputs": [],
   "source": [
    "from azure.monitor.opentelemetry import configure_azure_monitor\n",
    "configure_azure_monitor(connection_string=application_insights_connection_string)"
   ]
  },
  {
   "cell_type": "code",
   "execution_count": 17,
   "metadata": {},
   "outputs": [],
   "source": [
    "with open('./weather_openapi.json', 'r') as f:\n",
    "    openapi_spec = jsonref.loads(f.read())\n",
    "\n",
    "# Create Auth object for the OpenApiTool (note that connection or managed identity auth setup requires additional setup in Azure)\n",
    "connection_id = \"/subscriptions/5c5037e5-d3f1-4e7b-b3a9-f6bf94902b30/resourceGroups/abe-ai-foundry/providers/Microsoft.MachineLearningServices/workspaces/project-demotldibnrwzlt3c/connections/cases_api\"\n",
    "\n",
    "auth = OpenApiAnonymousAuthDetails()\n",
    "#auth = OpenApiConnectionAuthDetails(security_scheme=OpenApiConnectionSecurityScheme(connection_id))\n",
    "# Initialize agent OpenAPI tool using the read in OpenAPI spec\n",
    "openapi = OpenApiTool(name=\"get_weather\", spec=openapi_spec, description=\"Retrieve weather information for a location\", auth=auth)"
   ]
  },
  {
   "cell_type": "code",
   "execution_count": 7,
   "metadata": {},
   "outputs": [],
   "source": [
    "with open('./open_cases_openapi.json', 'r') as f:\n",
    "    openapi_spec = jsonref.load(f)\n",
    "\n",
    "# Create Auth object for the OpenApiTool (note that connection or managed identity auth setup requires additional setup in Azure)\n",
    "connection_string = \"/subscriptions/5c5037e5-d3f1-4e7b-b3a9-f6bf94902b30/resourceGroups/abe-ai-foundry/providers/Microsoft.MachineLearningServices/workspaces/project-demotldibnrwzlt3c/connections/cases_api\"\n",
    "\n",
    "auth = OpenApiAnonymousAuthDetails()\n",
    "# auth = OpenApiConnectionAuthDetails(\n",
    "#     security_scheme=OpenApiConnectionSecurityScheme(connection_id = connection_string)\n",
    "# )\n",
    "# Initialize agent OpenAPI tool using the read in OpenAPI spec\n",
    "openapi = OpenApiTool(name=\"open_cases\", spec=openapi_spec, description=\"Retrieves case data on every query.\", auth=auth)"
   ]
  },
  {
   "cell_type": "code",
   "execution_count": 8,
   "metadata": {},
   "outputs": [
    {
     "name": "stdout",
     "output_type": "stream",
     "text": [
      "Created agent, ID: asst_ONBbUp1jJMEDv6mjzxSUel3f\n",
      "Created thread, ID: thread_QVoeJKlF1BLdAkRkXa39jXMw\n",
      "Created message, ID: msg_SRwWoDvjwVdm1xsPSrpH0bMB\n",
      "Run finished with status: RunStatus.COMPLETED\n"
     ]
    }
   ],
   "source": [
    "# Create agent with OpenAPI tool and process assistant run\n",
    "agent = project_client.agents.create_agent(\n",
    "    model=\"gpt-4o-mini\",\n",
    "    name=\"cases-assistant-law\",\n",
    "    instructions=\"You are a helpful assistant\",\n",
    "    tools=openapi.definitions\n",
    ")\n",
    "print(f\"Created agent, ID: {agent.id}\")\n",
    "\n",
    "# Create thread for communication\n",
    "thread = project_client.agents.create_thread()\n",
    "print(f\"Created thread, ID: {thread.id}\")\n",
    "\n",
    "# Create message to thread\n",
    "message = project_client.agents.create_message(\n",
    "    thread_id=thread.id,\n",
    "    role=\"user\",\n",
    "    content=\"Get the case with: 'Water leaking from the apartment above'\",\n",
    ")\n",
    "print(f\"Created message, ID: {message.id}\")\n",
    "\n",
    "# Create and process agent run in thread with tools\n",
    "run = project_client.agents.create_and_process_run(thread_id=thread.id, assistant_id=agent.id)\n",
    "print(f\"Run finished with status: {run.status}\")\n",
    "\n",
    "if run.status == \"failed\":\n",
    "    print(f\"Run failed: {run.last_error}\")"
   ]
  },
  {
   "cell_type": "code",
   "execution_count": 8,
   "metadata": {},
   "outputs": [
    {
     "name": "stdout",
     "output_type": "stream",
     "text": [
      "Deleted agent\n"
     ]
    }
   ],
   "source": [
    "# Delete the assistant when done\n",
    "project_client.agents.delete_agent(agent.id)\n",
    "print(\"Deleted agent\")"
   ]
  },
  {
   "cell_type": "code",
   "execution_count": 25,
   "metadata": {},
   "outputs": [
    {
     "name": "stdout",
     "output_type": "stream",
     "text": [
      "Messages: {'object': 'list', 'data': [{'id': 'msg_9ZzeUpdaUzlQxRxKiqyTV8jW', 'object': 'thread.message', 'created_at': 1740707256, 'assistant_id': 'asst_VxUK0FvEe5o02DM8oS5PARfF', 'thread_id': 'thread_h1Nex4jik7PeQWtBEkmYmjiD', 'run_id': 'run_rZaGCJNMegOQQP0r9WCnzhES', 'role': 'assistant', 'content': [{'type': 'text', 'text': {'value': 'It seems there was an error while trying to retrieve the case data. Please try again later or adjust your query, and I will assist you further.', 'annotations': []}}], 'attachments': [], 'metadata': {}}, {'id': 'msg_fq9MsiN4PFHOy1uzulpBOQ5G', 'object': 'thread.message', 'created_at': 1740707251, 'assistant_id': None, 'thread_id': 'thread_h1Nex4jik7PeQWtBEkmYmjiD', 'run_id': None, 'role': 'user', 'content': [{'type': 'text', 'text': {'value': \"Get the case with: 'Water leaking from the apartment above'\", 'annotations': []}}], 'attachments': [], 'metadata': {}}], 'first_id': 'msg_9ZzeUpdaUzlQxRxKiqyTV8jW', 'last_id': 'msg_fq9MsiN4PFHOy1uzulpBOQ5G', 'has_more': False}\n",
      "('It seems there was an error while trying to retrieve the case data. Please '\n",
      " 'try again later or adjust your query, and I will assist you further.')\n"
     ]
    }
   ],
   "source": [
    "from pprint import pprint\n",
    "# Fetch and log all messages\n",
    "messages = project_client.agents.list_messages(thread_id=thread.id)\n",
    "print(f\"Messages: {messages}\")\n",
    "pprint(messages['data'][0]['content'][0]['text']['value'])"
   ]
  }
 ],
 "metadata": {
  "kernelspec": {
   "display_name": ".venv",
   "language": "python",
   "name": "python3"
  },
  "language_info": {
   "codemirror_mode": {
    "name": "ipython",
    "version": 3
   },
   "file_extension": ".py",
   "mimetype": "text/x-python",
   "name": "python",
   "nbconvert_exporter": "python",
   "pygments_lexer": "ipython3",
   "version": "3.13.1"
  }
 },
 "nbformat": 4,
 "nbformat_minor": 2
}
